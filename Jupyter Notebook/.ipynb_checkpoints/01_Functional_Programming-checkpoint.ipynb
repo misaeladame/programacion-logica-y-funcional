{
 "cells": [
  {
   "cell_type": "markdown",
   "metadata": {},
   "source": [
    "# Programación Funcional"
   ]
  },
  {
   "cell_type": "code",
   "execution_count": 13,
   "metadata": {},
   "outputs": [],
   "source": [
    "#Definiendo una funcion como variable\n",
    "def hola():\n",
    "    print(\"hola desde la funcion Hola()!\")"
   ]
  },
  {
   "cell_type": "code",
   "execution_count": 14,
   "metadata": {},
   "outputs": [
    {
     "name": "stdout",
     "output_type": "stream",
     "text": [
      "hola desde la funcion Hola()!\n"
     ]
    }
   ],
   "source": [
    "hola()"
   ]
  },
  {
   "cell_type": "code",
   "execution_count": 15,
   "metadata": {},
   "outputs": [
    {
     "name": "stdout",
     "output_type": "stream",
     "text": [
      "hola desde la funcion Hola()!\n"
     ]
    }
   ],
   "source": [
    "fake_hola = hola\n",
    "fake_hola()"
   ]
  },
  {
   "cell_type": "code",
   "execution_count": 16,
   "metadata": {},
   "outputs": [
    {
     "name": "stdout",
     "output_type": "stream",
     "text": [
      "<function hola at 0x000001CB4B1B3A60>\n"
     ]
    }
   ],
   "source": [
    "print(hola)"
   ]
  },
  {
   "cell_type": "code",
   "execution_count": 17,
   "metadata": {},
   "outputs": [
    {
     "name": "stdout",
     "output_type": "stream",
     "text": [
      "<function hola at 0x000001CB4B1B3A60>\n"
     ]
    }
   ],
   "source": [
    "print(fake_hola)"
   ]
  },
  {
   "cell_type": "code",
   "execution_count": 18,
   "metadata": {},
   "outputs": [
    {
     "name": "stdout",
     "output_type": "stream",
     "text": [
      "<function hola at 0x000001CB4B1B3A60>\n",
      "2021\n"
     ]
    }
   ],
   "source": [
    "#Creamos una lista de objetos\n",
    "lista = [hola, \"Estamos en la lista\", 2021]\n",
    "print(lista[0])\n",
    "print(lista[2])"
   ]
  },
  {
   "cell_type": "code",
   "execution_count": 19,
   "metadata": {},
   "outputs": [
    {
     "name": "stdout",
     "output_type": "stream",
     "text": [
      "0\n"
     ]
    }
   ],
   "source": [
    "#Creamos un diccionario\n",
    "# key : value, key : value, \n",
    "dicc = {hola : 0, \"Estamos en la lista\" : 1, 2021 : 3}\n",
    "print(dicc[hola])"
   ]
  },
  {
   "cell_type": "code",
   "execution_count": 20,
   "metadata": {},
   "outputs": [
    {
     "name": "stdout",
     "output_type": "stream",
     "text": [
      "hola desde la funcion Hola()!\n"
     ]
    }
   ],
   "source": [
    "#Funciones como argumentos: decoradores (funciones de orden superior)\n",
    "def hola():\n",
    "    print(\"hola desde la funcion Hola()!\")\n",
    "def mundo(func):\n",
    "    func()\n",
    "    \n",
    "mundo(hola)"
   ]
  },
  {
   "cell_type": "code",
   "execution_count": 21,
   "metadata": {},
   "outputs": [
    {
     "data": {
      "text/plain": [
       "<function __main__.hola.<locals>.mundo()>"
      ]
     },
     "execution_count": 21,
     "metadata": {},
     "output_type": "execute_result"
    }
   ],
   "source": [
    "def hola():\n",
    "    def mundo():\n",
    "        print(\"hola desde la funcion mundo()!\")\n",
    "    return mundo\n",
    "\n",
    "func = hola()\n",
    "func"
   ]
  },
  {
   "cell_type": "code",
   "execution_count": 22,
   "metadata": {},
   "outputs": [
    {
     "name": "stdout",
     "output_type": "stream",
     "text": [
      "hola desde la funcion mundo()!\n"
     ]
    }
   ],
   "source": [
    "func()"
   ]
  },
  {
   "cell_type": "code",
   "execution_count": 23,
   "metadata": {},
   "outputs": [
    {
     "name": "stdout",
     "output_type": "stream",
     "text": [
      "hola desde la funcion mundo()!\n"
     ]
    }
   ],
   "source": [
    "hola()()"
   ]
  },
  {
   "cell_type": "code",
   "execution_count": 24,
   "metadata": {},
   "outputs": [
    {
     "name": "stdout",
     "output_type": "stream",
     "text": [
      "[3, 2, 1]\n"
     ]
    }
   ],
   "source": [
    "lista = [1, 2, 3]\n",
    "print(lista[::-1])"
   ]
  },
  {
   "cell_type": "code",
   "execution_count": 25,
   "metadata": {},
   "outputs": [
    {
     "data": {
      "text/plain": [
       "'!odnum aloH'"
      ]
     },
     "execution_count": 25,
     "metadata": {},
     "output_type": "execute_result"
    }
   ],
   "source": [
    "def invierte(cad):\n",
    "    return cad[::-1]\n",
    "\n",
    "invierte(\"Hola mundo!\")"
   ]
  },
  {
   "cell_type": "code",
   "execution_count": 26,
   "metadata": {},
   "outputs": [
    {
     "data": {
      "text/plain": [
       "'!odnum aloh'"
      ]
     },
     "execution_count": 26,
     "metadata": {},
     "output_type": "execute_result"
    }
   ],
   "source": [
    "#Funciones anonimas: lambda\n",
    "#Sintaxis: lambda <parametros> : <expresion>\n",
    "#Permite portabilidad se llama a la funcion por medio del nombre\n",
    "invierte = lambda cad : cad [::-1]\n",
    "invierte(\"hola mundo!\")"
   ]
  },
  {
   "cell_type": "code",
   "execution_count": 27,
   "metadata": {},
   "outputs": [
    {
     "data": {
      "text/plain": [
       "'!odnum aloH'"
      ]
     },
     "execution_count": 27,
     "metadata": {},
     "output_type": "execute_result"
    }
   ],
   "source": [
    "#No permite portabilidad, llamado varias veces se debe escribir el código completo\n",
    "(lambda cad : cad[::-1])(\"Hola mundo!\")"
   ]
  },
  {
   "cell_type": "code",
   "execution_count": 28,
   "metadata": {},
   "outputs": [
    {
     "data": {
      "text/plain": [
       "78.33333333333333"
      ]
     },
     "execution_count": 28,
     "metadata": {},
     "output_type": "execute_result"
    }
   ],
   "source": [
    "#determinando el primedio\n",
    "(lambda calif1, calif2, calif3: (calif1 + calif2 + calif3) / 3)(100, 65, 70)"
   ]
  },
  {
   "cell_type": "code",
   "execution_count": 29,
   "metadata": {},
   "outputs": [
    {
     "data": {
      "text/plain": [
       "<map at 0x1cb4b1d2250>"
      ]
     },
     "execution_count": 29,
     "metadata": {},
     "output_type": "execute_result"
    }
   ],
   "source": [
    "#Funcion map: aplica una funcion a un objeto iterable\n",
    "#Sintaxis: map(<funcion>, <objeto_iterable>)\n",
    "lenguajes = [\"C\", \"C++\", \"C#\", \"Java\", \"Python\", \"JavaScript\"]\n",
    "iterador = map(invierte, lenguajes)\n",
    "iterador"
   ]
  },
  {
   "cell_type": "code",
   "execution_count": 30,
   "metadata": {},
   "outputs": [
    {
     "name": "stdout",
     "output_type": "stream",
     "text": [
      "C\n",
      "++C\n",
      "#C\n",
      "avaJ\n",
      "nohtyP\n",
      "tpircSavaJ\n"
     ]
    }
   ],
   "source": [
    "for i in iterador:\n",
    "    print(i)"
   ]
  },
  {
   "cell_type": "code",
   "execution_count": 31,
   "metadata": {},
   "outputs": [
    {
     "data": {
      "text/plain": [
       "['C', '++C', '#C', 'avaJ', 'nohtyP', 'tpircSavaJ']"
      ]
     },
     "execution_count": 31,
     "metadata": {},
     "output_type": "execute_result"
    }
   ],
   "source": [
    "iterador = map(invierte, lenguajes)\n",
    "list(iterador) #convierte un objeto map a una lista (list)"
   ]
  },
  {
   "cell_type": "code",
   "execution_count": 32,
   "metadata": {},
   "outputs": [
    {
     "data": {
      "text/plain": [
       "['C', '++C', '#C', 'avaJ', 'nohtyP', 'tpircSavaJ']"
      ]
     },
     "execution_count": 32,
     "metadata": {},
     "output_type": "execute_result"
    }
   ],
   "source": [
    "list(map(lambda cad: cad[::-1], [\"C\", \"C++\", \"C#\", \"Java\", \"Python\", \"JavaScript\"]))"
   ]
  },
  {
   "cell_type": "code",
   "execution_count": 33,
   "metadata": {},
   "outputs": [],
   "source": [
    "#Multiples iteradores con map\n",
    "#Sintaxis: map(<funcion>, <obj_iterable>, <obj_iterable>, ...)\n",
    "def funcion(x, y, z):\n",
    "    return x+y+z"
   ]
  },
  {
   "cell_type": "code",
   "execution_count": 34,
   "metadata": {},
   "outputs": [
    {
     "data": {
      "text/plain": [
       "[3, 6, 9]"
      ]
     },
     "execution_count": 34,
     "metadata": {},
     "output_type": "execute_result"
    }
   ],
   "source": [
    "#                   x      ,   y      ,   z    \n",
    "list(map(funcion, [1, 2, 3], [1, 2, 3], [1, 2, 3]))"
   ]
  },
  {
   "cell_type": "code",
   "execution_count": 35,
   "metadata": {},
   "outputs": [
    {
     "data": {
      "text/plain": [
       "[23, 10]"
      ]
     },
     "execution_count": 35,
     "metadata": {},
     "output_type": "execute_result"
    }
   ],
   "source": [
    "#Funcion filter: permite filtrar elementos de un objeto iterable\n",
    "#basandose en la restriccion de una funcion\n",
    "#Sintaxis: filter(<funcion>, <objeto_iterable>)\n",
    "def arriba_de_3(num):\n",
    "    return num > 3\n",
    "\n",
    "list(filter(arriba_de_3, [23, 10, 1, 0, 3, 2]))"
   ]
  },
  {
   "cell_type": "code",
   "execution_count": 36,
   "metadata": {},
   "outputs": [
    {
     "data": {
      "text/plain": [
       "[23, 10]"
      ]
     },
     "execution_count": 36,
     "metadata": {},
     "output_type": "execute_result"
    }
   ],
   "source": [
    "list(filter(lambda x: x > 3, [23, 10, 1, 0, 3, 2]))"
   ]
  },
  {
   "cell_type": "code",
   "execution_count": 37,
   "metadata": {},
   "outputs": [
    {
     "data": {
      "text/plain": [
       "[0, 2, 4, 6, 8, 10, 12, 14, 16, 18]"
      ]
     },
     "execution_count": 37,
     "metadata": {},
     "output_type": "execute_result"
    }
   ],
   "source": [
    "#Buscando numeros pares en el rango de 0 a 19\n",
    "list(filter(lambda num: num % 2 == 0, range(20)))"
   ]
  },
  {
   "cell_type": "code",
   "execution_count": 38,
   "metadata": {},
   "outputs": [
    {
     "data": {
      "text/plain": [
       "['C', 'C++', 'C#']"
      ]
     },
     "execution_count": 38,
     "metadata": {},
     "output_type": "execute_result"
    }
   ],
   "source": [
    "lenguajes = [\"C\", \"C++\", \"C#\", \"Java\", \"Pyhton\", \"JavaScript\"]\n",
    "#isupper() regresa True si todos los caracteres son mayusculas\n",
    "list(filter(lambda cad: cad.isupper(), lenguajes))"
   ]
  },
  {
   "cell_type": "code",
   "execution_count": 39,
   "metadata": {},
   "outputs": [
    {
     "data": {
      "text/plain": [
       "6"
      ]
     },
     "execution_count": 39,
     "metadata": {},
     "output_type": "execute_result"
    }
   ],
   "source": [
    "#Funcion reduce: aplica una funcion a un objeto iterable una vez o varias veces\n",
    "#combinandolos hasta tener un resultado\n",
    "#Sintaxis: reduce(<funcion>, <objeto_iterable>)\n",
    "#importando\n",
    "from functools import reduce\n",
    "def suma(x, y):\n",
    "    return x+y\n",
    "reduce(suma, [1, 2, 3])"
   ]
  },
  {
   "cell_type": "code",
   "execution_count": 40,
   "metadata": {},
   "outputs": [
    {
     "data": {
      "text/plain": [
       "6"
      ]
     },
     "execution_count": 40,
     "metadata": {},
     "output_type": "execute_result"
    }
   ],
   "source": [
    "sum([1, 2, 3])"
   ]
  },
  {
   "cell_type": "code",
   "execution_count": 41,
   "metadata": {},
   "outputs": [
    {
     "data": {
      "text/plain": [
       "24"
      ]
     },
     "execution_count": 41,
     "metadata": {},
     "output_type": "execute_result"
    }
   ],
   "source": [
    "#Ejemplo de factorial de un numero\n",
    "def mult(x, y):\n",
    "    return x*y\n",
    "\n",
    "def f(num):\n",
    "    return reduce(mult, range(1, num+1))\n",
    "\n",
    "f(4)"
   ]
  },
  {
   "cell_type": "code",
   "execution_count": 42,
   "metadata": {},
   "outputs": [
    {
     "data": {
      "text/plain": [
       "24"
      ]
     },
     "execution_count": 42,
     "metadata": {},
     "output_type": "execute_result"
    }
   ],
   "source": [
    "from math import factorial\n",
    "factorial(4)"
   ]
  },
  {
   "cell_type": "code",
   "execution_count": 43,
   "metadata": {},
   "outputs": [
    {
     "data": {
      "text/plain": [
       "24"
      ]
     },
     "execution_count": 43,
     "metadata": {},
     "output_type": "execute_result"
    }
   ],
   "source": [
    "def f(num):\n",
    "    return reduce(lambda x, y: x * y, range(1, num + 1))\n",
    "\n",
    "f(4)"
   ]
  },
  {
   "cell_type": "code",
   "execution_count": 44,
   "metadata": {},
   "outputs": [
    {
     "data": {
      "text/plain": [
       "25"
      ]
     },
     "execution_count": 44,
     "metadata": {},
     "output_type": "execute_result"
    }
   ],
   "source": [
    "#Sintaxis: reduce(<funcion>, <objeto_iterable>, <valor_inicial>)\n",
    "reduce(lambda x, y: x + y, [1, 2, 3, 4, 5], 10)"
   ]
  },
  {
   "cell_type": "code",
   "execution_count": 45,
   "metadata": {},
   "outputs": [
    {
     "data": {
      "text/plain": [
       "25"
      ]
     },
     "execution_count": 45,
     "metadata": {},
     "output_type": "execute_result"
    }
   ],
   "source": [
    "10 + sum([1, 2, 3, 4, 5])"
   ]
  },
  {
   "cell_type": "code",
   "execution_count": 46,
   "metadata": {},
   "outputs": [
    {
     "name": "stdout",
     "output_type": "stream",
     "text": [
      "10\n"
     ]
    }
   ],
   "source": [
    "#Ejemplo\n",
    "lista = [1, 2, 3, 4, 5]\n",
    "#Suma 2 a cada numero : 3, 4, 5, 6, 7\n",
    "mapeo = map(lambda num : num + 2, lista) \n",
    "#Filtrar solo pares : 4, 6\n",
    "filtro_sobre_mapeo = filter(lambda num : num%2 == 0, mapeo)\n",
    "#suma todos los elementos pares\n",
    "reduce_sobre_filtro = reduce(lambda x, y : x + y, filtro_sobre_mapeo)\n",
    "print(reduce_sobre_filtro)"
   ]
  },
  {
   "cell_type": "code",
   "execution_count": 47,
   "metadata": {},
   "outputs": [
    {
     "name": "stdout",
     "output_type": "stream",
     "text": [
      "Alumnos genio: , Hugo, Luis, Daisy\n"
     ]
    }
   ],
   "source": [
    "#Ejemplo  [ 0 ,     1,      2    ]\n",
    "datos = [[\"Hugo\", 100.0, \"Alumno\"],\n",
    "         [\"Paco\", 90.0, \"Alumno\"],\n",
    "         [\"Luis\", 95.0, \"Alumno\"],\n",
    "         [\"Donald\", 100.0, \"Maestro\"],\n",
    "         [\"Daisy\", 95.0, \"Alumno\"],\n",
    "         [\"YO\", 100.0, \"Directora\"]]\n",
    "filtrar = filter(lambda n : n[2] == \"Alumno\" and n[1] >= 95.0, datos)\n",
    "mapear = map(lambda n : n[0], filtrar)\n",
    "reducir = reduce(lambda x, y: x + \", \" + y, mapear, \"Alumnos genio: \")\n",
    "print(reducir)"
   ]
  },
  {
   "cell_type": "code",
   "execution_count": 48,
   "metadata": {},
   "outputs": [
    {
     "data": {
      "text/plain": [
       "'aloh'"
      ]
     },
     "execution_count": 48,
     "metadata": {},
     "output_type": "execute_result"
    }
   ],
   "source": [
    "invierte(\"hola\")"
   ]
  },
  {
   "cell_type": "code",
   "execution_count": null,
   "metadata": {},
   "outputs": [],
   "source": []
  }
 ],
 "metadata": {
  "kernelspec": {
   "display_name": "Python 3",
   "language": "python",
   "name": "python3"
  },
  "language_info": {
   "codemirror_mode": {
    "name": "ipython",
    "version": 3
   },
   "file_extension": ".py",
   "mimetype": "text/x-python",
   "name": "python",
   "nbconvert_exporter": "python",
   "pygments_lexer": "ipython3",
   "version": "3.8.5"
  }
 },
 "nbformat": 4,
 "nbformat_minor": 4
}
